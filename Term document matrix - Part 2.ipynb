{
 "cells": [
  {
   "cell_type": "code",
   "execution_count": 6,
   "id": "c1543438",
   "metadata": {},
   "outputs": [],
   "source": [
    "#Importing the necessary libraries\n",
    "import textmining"
   ]
  },
  {
   "cell_type": "code",
   "execution_count": 7,
   "id": "2ecfb9c7",
   "metadata": {},
   "outputs": [],
   "source": [
    "tdm = textmining.TermDocumentMatrix()"
   ]
  },
  {
   "cell_type": "code",
   "execution_count": 8,
   "id": "93b189a3",
   "metadata": {},
   "outputs": [],
   "source": [
    "#Sentences\n",
    "sentence1 = 'I love football'\n",
    "sentence2 = 'Messi is a great football player'\n",
    "sentence3 = \"Messi has won several Ballon d'Or awards\""
   ]
  },
  {
   "cell_type": "code",
   "execution_count": 9,
   "id": "9fcd2aa3",
   "metadata": {},
   "outputs": [],
   "source": [
    "#Adding the documents\n",
    "tdm.add_doc(sentence1)\n",
    "tdm.add_doc(sentence2)\n",
    "tdm.add_doc(sentence3)"
   ]
  },
  {
   "cell_type": "code",
   "execution_count": 10,
   "id": "8d44d71a",
   "metadata": {},
   "outputs": [
    {
     "data": {
      "text/html": [
       "<div>\n",
       "<style scoped>\n",
       "    .dataframe tbody tr th:only-of-type {\n",
       "        vertical-align: middle;\n",
       "    }\n",
       "\n",
       "    .dataframe tbody tr th {\n",
       "        vertical-align: top;\n",
       "    }\n",
       "\n",
       "    .dataframe thead th {\n",
       "        text-align: right;\n",
       "    }\n",
       "</style>\n",
       "<table border=\"1\" class=\"dataframe\">\n",
       "  <thead>\n",
       "    <tr style=\"text-align: right;\">\n",
       "      <th></th>\n",
       "      <th>i</th>\n",
       "      <th>love</th>\n",
       "      <th>football</th>\n",
       "      <th>messi</th>\n",
       "      <th>is</th>\n",
       "      <th>a</th>\n",
       "      <th>great</th>\n",
       "      <th>player</th>\n",
       "      <th>has</th>\n",
       "      <th>won</th>\n",
       "      <th>several</th>\n",
       "      <th>ballon</th>\n",
       "      <th>d</th>\n",
       "      <th>or</th>\n",
       "      <th>awards</th>\n",
       "    </tr>\n",
       "  </thead>\n",
       "  <tbody>\n",
       "    <tr>\n",
       "      <th>0</th>\n",
       "      <td>1</td>\n",
       "      <td>1</td>\n",
       "      <td>1</td>\n",
       "      <td>0</td>\n",
       "      <td>0</td>\n",
       "      <td>0</td>\n",
       "      <td>0</td>\n",
       "      <td>0</td>\n",
       "      <td>0</td>\n",
       "      <td>0</td>\n",
       "      <td>0</td>\n",
       "      <td>0</td>\n",
       "      <td>0</td>\n",
       "      <td>0</td>\n",
       "      <td>0</td>\n",
       "    </tr>\n",
       "    <tr>\n",
       "      <th>1</th>\n",
       "      <td>0</td>\n",
       "      <td>0</td>\n",
       "      <td>1</td>\n",
       "      <td>1</td>\n",
       "      <td>1</td>\n",
       "      <td>1</td>\n",
       "      <td>1</td>\n",
       "      <td>1</td>\n",
       "      <td>0</td>\n",
       "      <td>0</td>\n",
       "      <td>0</td>\n",
       "      <td>0</td>\n",
       "      <td>0</td>\n",
       "      <td>0</td>\n",
       "      <td>0</td>\n",
       "    </tr>\n",
       "    <tr>\n",
       "      <th>2</th>\n",
       "      <td>0</td>\n",
       "      <td>0</td>\n",
       "      <td>0</td>\n",
       "      <td>1</td>\n",
       "      <td>0</td>\n",
       "      <td>0</td>\n",
       "      <td>0</td>\n",
       "      <td>0</td>\n",
       "      <td>1</td>\n",
       "      <td>1</td>\n",
       "      <td>1</td>\n",
       "      <td>1</td>\n",
       "      <td>1</td>\n",
       "      <td>1</td>\n",
       "      <td>1</td>\n",
       "    </tr>\n",
       "  </tbody>\n",
       "</table>\n",
       "</div>"
      ],
      "text/plain": [
       "   i  love  football  messi  is  a  great  player  has  won  several  ballon  \\\n",
       "0  1     1         1      0   0  0      0       0    0    0        0       0   \n",
       "1  0     0         1      1   1  1      1       1    0    0        0       0   \n",
       "2  0     0         0      1   0  0      0       0    1    1        1       1   \n",
       "\n",
       "   d  or  awards  \n",
       "0  0   0       0  \n",
       "1  0   0       0  \n",
       "2  1   1       1  "
      ]
     },
     "execution_count": 10,
     "metadata": {},
     "output_type": "execute_result"
    }
   ],
   "source": [
    "tdm1 = tdm.to_df(cutoff=0)\n",
    "tdm1"
   ]
  }
 ],
 "metadata": {
  "kernelspec": {
   "display_name": "Python 3 (ipykernel)",
   "language": "python",
   "name": "python3"
  },
  "language_info": {
   "codemirror_mode": {
    "name": "ipython",
    "version": 3
   },
   "file_extension": ".py",
   "mimetype": "text/x-python",
   "name": "python",
   "nbconvert_exporter": "python",
   "pygments_lexer": "ipython3",
   "version": "3.9.13"
  }
 },
 "nbformat": 4,
 "nbformat_minor": 5
}
