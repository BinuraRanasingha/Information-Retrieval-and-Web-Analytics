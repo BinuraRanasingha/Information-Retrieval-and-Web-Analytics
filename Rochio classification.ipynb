{
 "cells": [
  {
   "cell_type": "markdown",
   "id": "eae89cfb",
   "metadata": {},
   "source": [
    "* The Rochio Algorithm is based on a method of relevance feedback found in IR systems which stemmed from the **SMART algorithm**.\n",
    "\n",
    "* It was developed using the vector space model."
   ]
  },
  {
   "cell_type": "code",
   "execution_count": 5,
   "id": "33d55ee7",
   "metadata": {},
   "outputs": [],
   "source": [
    "#Importing the necessary libraries\n",
    "from sklearn.neighbors import NearestCentroid\n",
    "from sklearn.pipeline import Pipeline # sequentially applies a list of transformations\n",
    "from sklearn import metrics\n",
    "from sklearn.feature_extraction.text import CountVectorizer,TfidfTransformer\n",
    "from sklearn.datasets import fetch_20newsgroups"
   ]
  },
  {
   "cell_type": "code",
   "execution_count": 8,
   "id": "9c985db3",
   "metadata": {},
   "outputs": [],
   "source": [
    "newsgroup_train = fetch_20newsgroups(subset='train')\n",
    "newsgroup_test = fetch_20newsgroups(subset='test')\n",
    "x_train = newsgroup_train.data\n",
    "x_test = newsgroup_test.data\n",
    "y_train = newsgroup_train.target\n",
    "y_test = newsgroup_test.target"
   ]
  },
  {
   "cell_type": "code",
   "execution_count": 9,
   "id": "1c53921d",
   "metadata": {},
   "outputs": [],
   "source": [
    "text_clf = Pipeline([('vect',CountVectorizer()),('tfidf',TfidfTransformer()),('clf',NearestCentroid())])"
   ]
  },
  {
   "cell_type": "code",
   "execution_count": 10,
   "id": "5508ecbc",
   "metadata": {},
   "outputs": [
    {
     "data": {
      "text/plain": [
       "Pipeline(steps=[('vect', CountVectorizer()), ('tfidf', TfidfTransformer()),\n",
       "                ('clf', NearestCentroid())])"
      ]
     },
     "execution_count": 10,
     "metadata": {},
     "output_type": "execute_result"
    }
   ],
   "source": [
    "#Fitting the model\n",
    "text_clf.fit(x_train,y_train)"
   ]
  },
  {
   "cell_type": "code",
   "execution_count": 11,
   "id": "a799fab6",
   "metadata": {},
   "outputs": [],
   "source": [
    "#Making predictions\n",
    "predicted = text_clf.predict(x_test)"
   ]
  },
  {
   "cell_type": "code",
   "execution_count": 12,
   "id": "28b78a4b",
   "metadata": {},
   "outputs": [
    {
     "data": {
      "text/plain": [
       "array([ 7,  1,  0, ...,  9,  3, 15])"
      ]
     },
     "execution_count": 12,
     "metadata": {},
     "output_type": "execute_result"
    }
   ],
   "source": [
    "predicted"
   ]
  },
  {
   "cell_type": "code",
   "execution_count": 13,
   "id": "b6493131",
   "metadata": {},
   "outputs": [
    {
     "name": "stdout",
     "output_type": "stream",
     "text": [
      "              precision    recall  f1-score   support\n",
      "\n",
      "           0       0.75      0.49      0.60       319\n",
      "           1       0.44      0.76      0.56       389\n",
      "           2       0.75      0.68      0.71       394\n",
      "           3       0.71      0.59      0.65       392\n",
      "           4       0.81      0.71      0.76       385\n",
      "           5       0.83      0.66      0.74       395\n",
      "           6       0.49      0.88      0.63       390\n",
      "           7       0.86      0.76      0.80       396\n",
      "           8       0.91      0.86      0.89       398\n",
      "           9       0.85      0.79      0.82       397\n",
      "          10       0.95      0.80      0.87       399\n",
      "          11       0.94      0.66      0.78       396\n",
      "          12       0.40      0.70      0.51       393\n",
      "          13       0.84      0.49      0.62       396\n",
      "          14       0.89      0.72      0.80       394\n",
      "          15       0.55      0.73      0.63       398\n",
      "          16       0.68      0.76      0.71       364\n",
      "          17       0.97      0.70      0.81       376\n",
      "          18       0.54      0.53      0.53       310\n",
      "          19       0.58      0.39      0.47       251\n",
      "\n",
      "    accuracy                           0.69      7532\n",
      "   macro avg       0.74      0.68      0.69      7532\n",
      "weighted avg       0.74      0.69      0.70      7532\n",
      "\n"
     ]
    }
   ],
   "source": [
    "#Checking accuracy\n",
    "print(metrics.classification_report(y_test,predicted))"
   ]
  },
  {
   "cell_type": "code",
   "execution_count": null,
   "id": "abb788ce",
   "metadata": {},
   "outputs": [],
   "source": []
  }
 ],
 "metadata": {
  "kernelspec": {
   "display_name": "Python 3 (ipykernel)",
   "language": "python",
   "name": "python3"
  },
  "language_info": {
   "codemirror_mode": {
    "name": "ipython",
    "version": 3
   },
   "file_extension": ".py",
   "mimetype": "text/x-python",
   "name": "python",
   "nbconvert_exporter": "python",
   "pygments_lexer": "ipython3",
   "version": "3.9.15"
  }
 },
 "nbformat": 4,
 "nbformat_minor": 5
}
