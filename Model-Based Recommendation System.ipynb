{
 "cells": [
  {
   "cell_type": "markdown",
   "id": "ef30a2cd",
   "metadata": {},
   "source": [
    "* surprise library is an easy-to-use library for recommendation systems."
   ]
  },
  {
   "cell_type": "code",
   "execution_count": 5,
   "id": "422fae08",
   "metadata": {},
   "outputs": [],
   "source": [
    "#Importing the necessary libraries\n",
    "from surprise import Reader, Dataset, SVD\n",
    "from surprise.model_selection import cross_validate\n",
    "import pandas as pd"
   ]
  },
  {
   "cell_type": "code",
   "execution_count": 6,
   "id": "704cc333",
   "metadata": {},
   "outputs": [
    {
     "data": {
      "text/html": [
       "<div>\n",
       "<style scoped>\n",
       "    .dataframe tbody tr th:only-of-type {\n",
       "        vertical-align: middle;\n",
       "    }\n",
       "\n",
       "    .dataframe tbody tr th {\n",
       "        vertical-align: top;\n",
       "    }\n",
       "\n",
       "    .dataframe thead th {\n",
       "        text-align: right;\n",
       "    }\n",
       "</style>\n",
       "<table border=\"1\" class=\"dataframe\">\n",
       "  <thead>\n",
       "    <tr style=\"text-align: right;\">\n",
       "      <th></th>\n",
       "      <th>UserId</th>\n",
       "      <th>ProductId</th>\n",
       "      <th>Rating</th>\n",
       "      <th>Timestamp</th>\n",
       "    </tr>\n",
       "  </thead>\n",
       "  <tbody>\n",
       "    <tr>\n",
       "      <th>0</th>\n",
       "      <td>A39HTATAQ9V7YF</td>\n",
       "      <td>0205616461</td>\n",
       "      <td>5.0</td>\n",
       "      <td>1369699200</td>\n",
       "    </tr>\n",
       "    <tr>\n",
       "      <th>1</th>\n",
       "      <td>A3JM6GV9MNOF9X</td>\n",
       "      <td>0558925278</td>\n",
       "      <td>3.0</td>\n",
       "      <td>1355443200</td>\n",
       "    </tr>\n",
       "    <tr>\n",
       "      <th>2</th>\n",
       "      <td>A1Z513UWSAAO0F</td>\n",
       "      <td>0558925278</td>\n",
       "      <td>5.0</td>\n",
       "      <td>1404691200</td>\n",
       "    </tr>\n",
       "    <tr>\n",
       "      <th>3</th>\n",
       "      <td>A1WMRR494NWEWV</td>\n",
       "      <td>0733001998</td>\n",
       "      <td>4.0</td>\n",
       "      <td>1382572800</td>\n",
       "    </tr>\n",
       "    <tr>\n",
       "      <th>4</th>\n",
       "      <td>A3IAAVS479H7M7</td>\n",
       "      <td>0737104473</td>\n",
       "      <td>1.0</td>\n",
       "      <td>1274227200</td>\n",
       "    </tr>\n",
       "    <tr>\n",
       "      <th>5</th>\n",
       "      <td>AKJHHD5VEH7VG</td>\n",
       "      <td>0762451459</td>\n",
       "      <td>5.0</td>\n",
       "      <td>1404518400</td>\n",
       "    </tr>\n",
       "    <tr>\n",
       "      <th>6</th>\n",
       "      <td>A1BG8QW55XHN6U</td>\n",
       "      <td>1304139212</td>\n",
       "      <td>5.0</td>\n",
       "      <td>1371945600</td>\n",
       "    </tr>\n",
       "    <tr>\n",
       "      <th>7</th>\n",
       "      <td>A22VW0P4VZHDE3</td>\n",
       "      <td>1304139220</td>\n",
       "      <td>5.0</td>\n",
       "      <td>1373068800</td>\n",
       "    </tr>\n",
       "    <tr>\n",
       "      <th>8</th>\n",
       "      <td>A3V3RE4132GKRO</td>\n",
       "      <td>130414089X</td>\n",
       "      <td>5.0</td>\n",
       "      <td>1401840000</td>\n",
       "    </tr>\n",
       "    <tr>\n",
       "      <th>9</th>\n",
       "      <td>A327B0I7CYTEJC</td>\n",
       "      <td>130414643X</td>\n",
       "      <td>4.0</td>\n",
       "      <td>1389052800</td>\n",
       "    </tr>\n",
       "  </tbody>\n",
       "</table>\n",
       "</div>"
      ],
      "text/plain": [
       "           UserId   ProductId  Rating   Timestamp\n",
       "0  A39HTATAQ9V7YF  0205616461     5.0  1369699200\n",
       "1  A3JM6GV9MNOF9X  0558925278     3.0  1355443200\n",
       "2  A1Z513UWSAAO0F  0558925278     5.0  1404691200\n",
       "3  A1WMRR494NWEWV  0733001998     4.0  1382572800\n",
       "4  A3IAAVS479H7M7  0737104473     1.0  1274227200\n",
       "5   AKJHHD5VEH7VG  0762451459     5.0  1404518400\n",
       "6  A1BG8QW55XHN6U  1304139212     5.0  1371945600\n",
       "7  A22VW0P4VZHDE3  1304139220     5.0  1373068800\n",
       "8  A3V3RE4132GKRO  130414089X     5.0  1401840000\n",
       "9  A327B0I7CYTEJC  130414643X     4.0  1389052800"
      ]
     },
     "execution_count": 6,
     "metadata": {},
     "output_type": "execute_result"
    }
   ],
   "source": [
    "reader = Reader()\n",
    "data = pd.read_csv(\"D:\\\\SLIIT\\\\3rd year 2nd sem\\\\Information Retrieval and Web Analytics\\\\Coding\\\\ratings_Beauty.csv\")\n",
    "data.head(10)"
   ]
  },
  {
   "cell_type": "code",
   "execution_count": 7,
   "id": "e0e7d700",
   "metadata": {},
   "outputs": [
    {
     "data": {
      "text/plain": [
       "{'test_rmse': array([1.24970998, 1.24975711, 1.24921012, 1.248802  , 1.2497823 ]),\n",
       " 'test_mae': array([0.97752211, 0.97712968, 0.97692592, 0.97629557, 0.97763095]),\n",
       " 'fit_time': (25.05053424835205,\n",
       "  23.96475124359131,\n",
       "  24.04049277305603,\n",
       "  24.840331077575684,\n",
       "  22.97307825088501),\n",
       " 'test_time': (2.6532187461853027,\n",
       "  2.9854652881622314,\n",
       "  1.8983547687530518,\n",
       "  2.744063377380371,\n",
       "  1.8704187870025635)}"
      ]
     },
     "execution_count": 7,
     "metadata": {},
     "output_type": "execute_result"
    }
   ],
   "source": [
    "data1 = Dataset.load_from_df(data[['UserId','ProductId','Rating']],reader)\n",
    "svd = SVD()\n",
    "cross_validate(svd,data1,measures=['RMSE','MAE'],cv=5) #cv-cross validate=5"
   ]
  },
  {
   "cell_type": "code",
   "execution_count": 9,
   "id": "0f6519d7",
   "metadata": {},
   "outputs": [
    {
     "data": {
      "text/plain": [
       "<surprise.prediction_algorithms.matrix_factorization.SVD at 0x18c7c89ff40>"
      ]
     },
     "execution_count": 9,
     "metadata": {},
     "output_type": "execute_result"
    }
   ],
   "source": [
    "trainset = data1.build_full_trainset()\n",
    "svd.fit(trainset)"
   ]
  },
  {
   "cell_type": "code",
   "execution_count": 12,
   "id": "b7be1c42",
   "metadata": {},
   "outputs": [
    {
     "data": {
      "text/html": [
       "<div>\n",
       "<style scoped>\n",
       "    .dataframe tbody tr th:only-of-type {\n",
       "        vertical-align: middle;\n",
       "    }\n",
       "\n",
       "    .dataframe tbody tr th {\n",
       "        vertical-align: top;\n",
       "    }\n",
       "\n",
       "    .dataframe thead th {\n",
       "        text-align: right;\n",
       "    }\n",
       "</style>\n",
       "<table border=\"1\" class=\"dataframe\">\n",
       "  <thead>\n",
       "    <tr style=\"text-align: right;\">\n",
       "      <th></th>\n",
       "      <th>UserId</th>\n",
       "      <th>ProductId</th>\n",
       "      <th>Rating</th>\n",
       "      <th>Timestamp</th>\n",
       "    </tr>\n",
       "  </thead>\n",
       "  <tbody>\n",
       "    <tr>\n",
       "      <th>0</th>\n",
       "      <td>A39HTATAQ9V7YF</td>\n",
       "      <td>0205616461</td>\n",
       "      <td>5.0</td>\n",
       "      <td>1369699200</td>\n",
       "    </tr>\n",
       "    <tr>\n",
       "      <th>899125</th>\n",
       "      <td>A39HTATAQ9V7YF</td>\n",
       "      <td>B002OVV7F0</td>\n",
       "      <td>3.0</td>\n",
       "      <td>1369699200</td>\n",
       "    </tr>\n",
       "    <tr>\n",
       "      <th>969482</th>\n",
       "      <td>A39HTATAQ9V7YF</td>\n",
       "      <td>B0031IH5FQ</td>\n",
       "      <td>5.0</td>\n",
       "      <td>1369699200</td>\n",
       "    </tr>\n",
       "    <tr>\n",
       "      <th>1499680</th>\n",
       "      <td>A39HTATAQ9V7YF</td>\n",
       "      <td>B006GQPZ8E</td>\n",
       "      <td>4.0</td>\n",
       "      <td>1369699200</td>\n",
       "    </tr>\n",
       "  </tbody>\n",
       "</table>\n",
       "</div>"
      ],
      "text/plain": [
       "                 UserId   ProductId  Rating   Timestamp\n",
       "0        A39HTATAQ9V7YF  0205616461     5.0  1369699200\n",
       "899125   A39HTATAQ9V7YF  B002OVV7F0     3.0  1369699200\n",
       "969482   A39HTATAQ9V7YF  B0031IH5FQ     5.0  1369699200\n",
       "1499680  A39HTATAQ9V7YF  B006GQPZ8E     4.0  1369699200"
      ]
     },
     "execution_count": 12,
     "metadata": {},
     "output_type": "execute_result"
    }
   ],
   "source": [
    "data[data['UserId']=='A39HTATAQ9V7YF']"
   ]
  },
  {
   "cell_type": "code",
   "execution_count": 13,
   "id": "19c2d160",
   "metadata": {},
   "outputs": [
    {
     "data": {
      "text/plain": [
       "Prediction(uid='AKJHHD5VEH7VG', iid='0558925278', r_ui=None, est=4.019391815346387, details={'was_impossible': False})"
      ]
     },
     "execution_count": 13,
     "metadata": {},
     "output_type": "execute_result"
    }
   ],
   "source": [
    "svd.predict('AKJHHD5VEH7VG','0558925278')#predicted rating is 4.019"
   ]
  },
  {
   "cell_type": "code",
   "execution_count": null,
   "id": "1eb9ca23",
   "metadata": {},
   "outputs": [],
   "source": []
  }
 ],
 "metadata": {
  "kernelspec": {
   "display_name": "Python 3 (ipykernel)",
   "language": "python",
   "name": "python3"
  },
  "language_info": {
   "codemirror_mode": {
    "name": "ipython",
    "version": 3
   },
   "file_extension": ".py",
   "mimetype": "text/x-python",
   "name": "python",
   "nbconvert_exporter": "python",
   "pygments_lexer": "ipython3",
   "version": "3.9.15"
  }
 },
 "nbformat": 4,
 "nbformat_minor": 5
}
